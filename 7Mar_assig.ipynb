{
 "cells": [
  {
   "cell_type": "markdown",
   "id": "cc1ca1cf-981e-4646-9e5c-0e2c2ad6e8d7",
   "metadata": {},
   "source": [
    "Q1. What are the three measures of central tendency?"
   ]
  },
  {
   "cell_type": "markdown",
   "id": "cca21a11-0257-4da8-a111-9c2df7d0706a",
   "metadata": {},
   "source": [
    "The three measures of central tendency are:\n",
    "\n",
    "Mean: The mean is the arithmetic average of a set of values. It is calculated by summing up all the values and dividing the sum by the total number of values.\n",
    "\n",
    "Median: The median is the middle value in a dataset when the values are arranged in ascending or descending order. If there is an even number of values, the median is the average of the two middle values.\n",
    "\n",
    "Mode: The mode is the value that occurs most frequently in a dataset. It represents the value or values with the highest frequency.\n",
    "\n",
    "These measures help to summarize and describe the center or typical value of a dataset, each with its own strengths and appropriate usage depending on the characteristics of the data."
   ]
  },
  {
   "cell_type": "markdown",
   "id": "3eb96453-6d35-4c04-8292-4ca0ed12643d",
   "metadata": {},
   "source": [
    "Q2. What is the difference between the mean, median, and mode? How are they used to measure the\n",
    "central tendency of a dataset?"
   ]
  },
  {
   "cell_type": "markdown",
   "id": "3675ae44-8b02-4a7d-baf7-6bbdc9025835",
   "metadata": {},
   "source": [
    "Mean:\n",
    "\n",
    "The mean, also known as the average, is calculated by adding up all the values in a dataset and then dividing by the number of values.\n",
    "Formula: Mean = (Sum of all values) / (Number of values)\n",
    "The mean is sensitive to extreme values or outliers in the dataset. A single outlier can significantly affect the mean.\n",
    "Median:\n",
    "\n",
    "The median is the middle value in a dataset when the values are arranged in ascending or descending order. If there is an even number of values, the median is the average of the two middle values.\n",
    "To find the median, you first need to order the data. Then, if there is an odd number of values, the median is the middle value. If there is an even number of values, the median is the average of the two middle values.\n",
    "The median is less affected by outliers compared to the mean and is a robust measure of central tendency.\n",
    "Mode:\n",
    "\n",
    "The mode is the value that appears most frequently in a dataset. A dataset can have one mode, more than one mode (multimodal), or no mode if all values are distinct.\n",
    "The mode is useful for identifying the most common value or values in a dataset. It is particularly relevant for categorical or discrete data.\n",
    "How they are used to measure the central tendency of a dataset:\n",
    "\n",
    "Mean: The mean is typically used when dealing with continuous or interval data, especially when the data follows a roughly symmetrical distribution, such as the normal distribution. It provides a balance point that takes all values into account but can be influenced by outliers.\n",
    "\n",
    "Median: The median is useful when you have skewed data or when you want a measure of central tendency that is less sensitive to outliers. It's often used in situations where extreme values could distort the mean significantly.\n",
    "\n",
    "Mode: The mode is primarily used for categorical data or discrete data with distinct categories. It identifies the most frequently occurring value(s) and can be helpful for understanding which category is the most common in the dataset."
   ]
  },
  {
   "cell_type": "markdown",
   "id": "500bf60b-e9fd-4310-87a1-55abcdd234e1",
   "metadata": {},
   "source": [
    "Q3. Measure the three measures of central tendency for the given height data:\n",
    "[178,177,176,177,178.2,178,175,179,180,175,178.9,176.2,177,172.5,178,176.5]"
   ]
  },
  {
   "cell_type": "code",
   "execution_count": 1,
   "id": "592a90c1-4929-4243-940c-02fc51f12cb6",
   "metadata": {},
   "outputs": [],
   "source": [
    "data = [178, 177, 176, 177, 178.2, 178, 175, 179, 180, 175, 178.9, 176.2, 177, 172.5, 178, 176.5]"
   ]
  },
  {
   "cell_type": "code",
   "execution_count": 2,
   "id": "23966589-0e4d-416d-9741-ebce96c25364",
   "metadata": {},
   "outputs": [],
   "source": [
    "import statistics"
   ]
  },
  {
   "cell_type": "code",
   "execution_count": 3,
   "id": "db85f956-2b61-4630-b678-26d0ce1b22d8",
   "metadata": {},
   "outputs": [
    {
     "data": {
      "text/plain": [
       "177.01875"
      ]
     },
     "execution_count": 3,
     "metadata": {},
     "output_type": "execute_result"
    }
   ],
   "source": [
    "statistics.mean(data)"
   ]
  },
  {
   "cell_type": "code",
   "execution_count": 4,
   "id": "a24ec3c8-58a0-4b76-afb8-fa8d0b8c6a40",
   "metadata": {},
   "outputs": [
    {
     "data": {
      "text/plain": [
       "177.0"
      ]
     },
     "execution_count": 4,
     "metadata": {},
     "output_type": "execute_result"
    }
   ],
   "source": [
    "statistics.median(data)"
   ]
  },
  {
   "cell_type": "code",
   "execution_count": 5,
   "id": "5cf7b41c-6a81-483d-b15e-582ef0b1c442",
   "metadata": {},
   "outputs": [
    {
     "data": {
      "text/plain": [
       "178"
      ]
     },
     "execution_count": 5,
     "metadata": {},
     "output_type": "execute_result"
    }
   ],
   "source": [
    "statistics.mode(data)"
   ]
  },
  {
   "cell_type": "markdown",
   "id": "37cc0dfd-084c-4d93-8190-5612b9518650",
   "metadata": {},
   "source": [
    "Q4. Find the standard deviation for the given data:\n",
    "[178,177,176,177,178.2,178,175,179,180,175,178.9,176.2,177,172.5,178,176.5]"
   ]
  },
  {
   "cell_type": "code",
   "execution_count": 6,
   "id": "b91a9e79-47a2-4a5b-ab78-35ee2f4bded5",
   "metadata": {},
   "outputs": [
    {
     "data": {
      "text/plain": [
       "1.8472389305844188"
      ]
     },
     "execution_count": 6,
     "metadata": {},
     "output_type": "execute_result"
    }
   ],
   "source": [
    "statistics.stdev(data)"
   ]
  },
  {
   "cell_type": "markdown",
   "id": "79c8c234-764a-4885-baaa-4f64287c92ce",
   "metadata": {},
   "source": [
    "Q5. How are measures of dispersion such as range, variance, and standard deviation used to describe\n",
    "the spread of a dataset? Provide an example."
   ]
  },
  {
   "cell_type": "markdown",
   "id": "760143a9-ea72-4abf-906e-6fe25151da17",
   "metadata": {},
   "source": [
    "Measures of dispersion, such as range, variance, and standard deviation, are used to describe the spread or variability of a dataset. They provide information about how the data points are distributed around the central tendency measures (such as mean or median). Here's an example to illustrate their usage:\n",
    "\n",
    "Consider the following dataset representing the daily temperatures in degrees Celsius for a week: [28, 30, 29, 31, 27, 29, 32]\n",
    "\n",
    "Range: The range is the simplest measure of dispersion, calculated as the difference between the maximum and minimum values in the dataset. In this example, the range is 32 - 27 = 5 degrees Celsius. It provides a rough estimate of the spread of values.\n",
    "\n",
    "Variance: Variance measures the average squared deviation of each data point from the mean. It quantifies the overall variability in the dataset. To calculate the variance, we first find the mean (28.57 in this case) and then compute the squared differences from the mean for each value, sum them up, and divide by the number of values. The variance for this dataset is approximately 2.95 degrees Celsius squared.\n",
    "\n",
    "Standard Deviation: The standard deviation is the square root of the variance. It represents the typical or average amount by which each data point deviates from the mean. In this example, the standard deviation is approximately 1.72 degrees Celsius.\n",
    "\n",
    "By using these measures of dispersion, we can understand the spread of the temperatures in the dataset. The range gives a basic idea of the difference between the highest and lowest temperatures. The variance and standard deviation provide a more precise and standardized measure of the variability, indicating how much the temperatures deviate from the mean temperature."
   ]
  },
  {
   "cell_type": "markdown",
   "id": "5eb8c895-630c-4f02-82e5-3d5c9b8e0429",
   "metadata": {},
   "source": [
    "Q6. What is a Venn diagram?"
   ]
  },
  {
   "cell_type": "markdown",
   "id": "d8cbc3fd-16a8-4d40-94cb-e7e331515b03",
   "metadata": {},
   "source": [
    "A Venn diagram is a visual representation of the relationships between different sets or groups of items. It uses overlapping circles or shapes to show the common and distinct elements among the sets being compared. The diagram was developed by John Venn in the late 19th century and has since become a widely used tool in various fields, including mathematics, logic, statistics, and data analysis.\n",
    "\n",
    "In a Venn diagram, each set is represented by a circle or an enclosed shape. The elements belonging to each set are placed inside the corresponding circle, while the overlapping regions represent the elements that are shared between the sets. The non-overlapping regions represent the elements that are unique to each set.\n",
    "\n",
    "Venn diagrams are often used to illustrate concepts such as set intersections, unions, complements, and subsets. They can help visually depict logical relationships, identify commonalities and differences between sets, and aid in problem-solving and decision-making processes.\n",
    "\n",
    "Venn diagrams can be simple with two or three sets, or they can be more complex with multiple sets. They provide a clear and intuitive way to visualize the relationships and overlaps among different groups of items or concepts."
   ]
  },
  {
   "cell_type": "markdown",
   "id": "24456169-5045-4ab1-be55-f01e36587efe",
   "metadata": {},
   "source": [
    "Q7. For the two given sets A = (2,3,4,5,6,7) & B = (0,2,6,8,10). Find:\n",
    "(i) A B\n",
    "(ii) A ⋃ B"
   ]
  },
  {
   "cell_type": "code",
   "execution_count": 7,
   "id": "ff4baf06-609e-4849-bca9-6378b1cd7938",
   "metadata": {},
   "outputs": [],
   "source": [
    "A = {2, 3, 4, 5, 6, 7}\n",
    "B = {0, 2, 6, 8, 10}"
   ]
  },
  {
   "cell_type": "code",
   "execution_count": 8,
   "id": "e474602e-1bce-4a90-897a-f5a9bfb59133",
   "metadata": {},
   "outputs": [
    {
     "data": {
      "text/plain": [
       "{0, 2, 3, 4, 5, 6, 7, 8, 10}"
      ]
     },
     "execution_count": 8,
     "metadata": {},
     "output_type": "execute_result"
    }
   ],
   "source": [
    "A.union(B)"
   ]
  },
  {
   "cell_type": "code",
   "execution_count": 9,
   "id": "c6b11616-2cd2-460b-ac61-9aae924532bd",
   "metadata": {},
   "outputs": [
    {
     "data": {
      "text/plain": [
       "{2, 6}"
      ]
     },
     "execution_count": 9,
     "metadata": {},
     "output_type": "execute_result"
    }
   ],
   "source": [
    "A.intersection(B)"
   ]
  },
  {
   "cell_type": "markdown",
   "id": "7c9be3f6-5b1b-4b20-8b7e-d48f2fc4c3ca",
   "metadata": {},
   "source": [
    "Q8. What do you understand about skewness in data?"
   ]
  },
  {
   "cell_type": "markdown",
   "id": "af34ebbc-d001-443b-a865-1a6a283278cb",
   "metadata": {},
   "source": [
    "Skewness is a statistical measure that describes the asymmetry or lack of symmetry in a probability distribution or dataset. It quantifies the extent to which the values in the dataset deviate from a symmetrical distribution. Skewness provides insight into the shape and characteristics of the data distribution.\n",
    "\n",
    "There are three types of skewness:\n",
    "\n",
    "Positive Skewness: Also known as right-skewness, it occurs when the tail of the distribution extends more towards the higher values. In other words, the majority of the data points are concentrated on the left side of the distribution, and the right tail is longer. The mean is typically greater than the median in positively skewed data.\n",
    "\n",
    "Negative Skewness: Also known as left-skewness, it occurs when the tail of the distribution extends more towards the lower values. In this case, the majority of the data points are concentrated on the right side of the distribution, and the left tail is longer. The mean is typically less than the median in negatively skewed data.\n",
    "\n",
    "Zero Skewness: It indicates a perfectly symmetrical distribution where the data is evenly distributed on both sides of the mean. The mean and median are equal in a symmetric distribution.\n",
    "\n",
    "Skewness is an important measure as it provides insights into the underlying characteristics of the data distribution. It helps identify departures from normality and influences the interpretation of statistical analyses and modeling. Skewness can affect the validity of certain statistical assumptions, such as those based on normality, and can impact the choice of appropriate statistical methods or transformations for data analysis."
   ]
  },
  {
   "cell_type": "markdown",
   "id": "12b5833d-a69d-4fb8-b470-8b0acc736592",
   "metadata": {},
   "source": [
    "Q9. If a data is right skewed then what will be the position of median with respect to mean?"
   ]
  },
  {
   "cell_type": "markdown",
   "id": "2c034b3d-5941-4e54-9330-f1491cc52dbc",
   "metadata": {},
   "source": [
    "If a data distribution is right-skewed, meaning it has a positive skewness, the position of the median will be generally less than the mean.\n",
    "\n",
    "In a right-skewed distribution, the majority of the data points are concentrated towards the lower end, while the tail of the distribution extends towards the higher values. This results in a longer right tail. As a consequence, the mean is influenced by the extreme values in the right tail, pulling it towards the higher values. On the other hand, the median is less affected by the extreme values and represents the middle value of the dataset when arranged in ascending order.\n",
    "\n",
    "Since the right-skewed distribution has a longer right tail, the extreme values on the higher end will pull the mean towards the right. As a result, the mean will be greater than the median. The median, being less sensitive to extreme values, will be relatively closer to the center of the distribution and positioned below the mean.\n",
    "\n",
    "To summarize:\n",
    "\n",
    "In a right-skewed distribution, the mean is generally greater than the median. The median is less influenced by extreme values and represents the middle value of the dataset. The mean is affected by extreme values and tends to be pulled towards the higher values in a right-skewed distribution."
   ]
  },
  {
   "cell_type": "markdown",
   "id": "a4d91319-7e6e-4a57-9fdb-95f9cf55f0f3",
   "metadata": {},
   "source": [
    "Q10. Explain the difference between covariance and correlation. How are these measures used in\n",
    "statistical analysis?"
   ]
  },
  {
   "cell_type": "markdown",
   "id": "a0efde40-53cd-4358-a22d-81b5e6b8d477",
   "metadata": {},
   "source": [
    "Covariance and correlation are both measures used to quantify the relationship between two variables in statistical analysis. While they are related, they have distinct differences in terms of interpretation and scale.\n",
    "\n",
    "Covariance:\n",
    "\n",
    "Covariance measures the extent to which two variables vary together. It indicates the direction (positive or negative) and magnitude of the linear relationship between the variables. Covariance can take any value, positive or negative, depending on the nature of the relationship between the variables. A positive covariance indicates a direct or positive relationship, meaning that as one variable increases, the other tends to increase as well. A negative covariance indicates an inverse or negative relationship, meaning that as one variable increases, the other tends to decrease. The scale of covariance is not standardized, which means the value can vary widely based on the units of measurement of the variables. Covariance is affected by the scale of the variables. Therefore, comparing covariance values between different datasets or variables can be misleading.\n",
    "\n",
    "Correlation:\n",
    "\n",
    "Correlation is a standardized measure that quantifies the strength and direction of the linear relationship between two variables. It is the covariance divided by the product of the standard deviations of the variables. Correlation ranges from -1 to +1. A correlation of +1 indicates a perfect positive linear relationship, a correlation of -1 indicates a perfect negative linear relationship, and a correlation of 0 indicates no linear relationship between the variables. Unlike covariance, correlation is not affected by the scale of the variables. It provides a standardized measure that allows for meaningful comparison between different datasets or variables. Correlation is widely used to assess the strength and direction of relationships between variables, identify patterns, and make predictions. It is commonly used in fields such as finance, social sciences, and data analysis. In summary, covariance measures the extent and direction of the linear relationship between two variables, while correlation provides a standardized measure of the strength and direction of the linear relationship. Correlation is preferred in statistical analysis due to its standardized scale, allowing for meaningful comparisons and interpretations."
   ]
  },
  {
   "cell_type": "markdown",
   "id": "85040163-f32d-4aa2-aa90-0c0542751019",
   "metadata": {},
   "source": [
    "Q11. What is the formula for calculating the sample mean? Provide an example calculation for a\n",
    "dataset."
   ]
  },
  {
   "cell_type": "markdown",
   "id": "aaca7ba5-55ca-49c4-a74f-6089f2a7306c",
   "metadata": {},
   "source": [
    "Sample Mean = (Sum of all data points) / (Number of data points)"
   ]
  },
  {
   "cell_type": "code",
   "execution_count": 10,
   "id": "7ee531cc-8ea9-4622-a1d7-219c72277b57",
   "metadata": {},
   "outputs": [],
   "source": [
    "dataset = [85, 90, 78, 92, 88]"
   ]
  },
  {
   "cell_type": "code",
   "execution_count": 11,
   "id": "fa87b521-0ff1-4551-94f8-c807bff9c883",
   "metadata": {},
   "outputs": [],
   "source": [
    "sample_mean=sum(dataset)/len(dataset)"
   ]
  },
  {
   "cell_type": "code",
   "execution_count": 12,
   "id": "a0bcdab4-f328-47fb-8d40-b73ff981d0a7",
   "metadata": {},
   "outputs": [
    {
     "data": {
      "text/plain": [
       "86.6"
      ]
     },
     "execution_count": 12,
     "metadata": {},
     "output_type": "execute_result"
    }
   ],
   "source": [
    "sample_mean"
   ]
  },
  {
   "cell_type": "markdown",
   "id": "f0e63ecd-6f5b-4dca-aec7-e729f4b1a303",
   "metadata": {},
   "source": [
    "Q12. For a normal distribution data what is the relationship between its measure of central tendency?"
   ]
  },
  {
   "cell_type": "markdown",
   "id": "f972b27f-1ff3-4dde-94b1-b1c29a6895fc",
   "metadata": {},
   "source": [
    "For a normal distribution, the three measures of central tendency - mean, median, and mode - are all equal.\n",
    "\n",
    "In a perfectly symmetrical normal distribution, the data is evenly distributed around the central value, resulting in a symmetric bell-shaped curve. In this case, the mean, median, and mode all coincide at the center of the distribution.\n",
    "\n",
    "The mean represents the arithmetic average of all the data points and is commonly used as a measure of central tendency. The median represents the middle value when the data points are arranged in ascending or descending order. In a symmetrical distribution, the middle value will be the same as the mean. The mode represents the value that occurs most frequently in the data. In a normal distribution, where there is no distinct peak or multiple modes, the mode will also be equal to the mean and median.\n",
    "\n",
    "Therefore, in a normal distribution, the mean, median, and mode are all equal, and they represent the central tendency of the data. This property holds true for a perfectly normal distribution, but in real-world scenarios, slight deviations from perfect symmetry can lead to minor differences between the measures of central tendency."
   ]
  },
  {
   "cell_type": "markdown",
   "id": "5b71ee8b-3fde-48b2-9228-d1c298df212b",
   "metadata": {},
   "source": [
    "Q13. How is covariance different from correlation?"
   ]
  },
  {
   "cell_type": "markdown",
   "id": "ca887250-01fa-4c74-aaba-2f2aa12297d7",
   "metadata": {},
   "source": [
    "Definition:\n",
    "\n",
    "Covariance measures the degree to which two variables change together. Specifically, it quantifies how two variables vary with respect to each other. If two variables tend to increase or decrease together, their covariance is positive. If one tends to increase when the other decreases, their covariance is negative. If there is no consistent relationship, the covariance is close to zero.\n",
    "\n",
    "Correlation, on the other hand, is a standardized measure of the linear relationship between two variables. It not only tells you whether two variables change together but also the strength and direction of that relationship. Correlation values range between -1 and 1, where -1 indicates a perfect negative linear relationship, 1 indicates a perfect positive linear relationship, and 0 indicates no linear relationship.\n",
    "\n",
    "Scale:\n",
    "\n",
    "Covariance is not scaled and depends on the units of the variables being measured. This makes it difficult to compare covariances between different pairs of variables or to make any definitive statements about the strength of the relationship.\n",
    "\n",
    "Correlation, being a standardized measure, is unitless and always falls between -1 and 1. This allows for easy comparison between different pairs of variables and a clear interpretation of the strength and direction of the relationship.\n",
    "\n",
    "Interpretation:\n",
    "\n",
    "Covariance is harder to interpret on its own due to its dependence on units and lack of a fixed scale. It simply indicates whether the variables move together or in opposite directions.\n",
    "\n",
    "Correlation is more interpretable because it provides a consistent scale. A correlation of 1 means a perfect positive linear relationship, -1 means a perfect negative linear relationship, and 0 means no linear relationship.\n",
    "\n",
    "Range:\n",
    "\n",
    "Covariance can take any real value, which means it can be positive, negative, or zero.\n",
    "\n",
    "Correlation is always within the range of -1 to 1, making it easier to compare relationships between different pairs of variables."
   ]
  },
  {
   "cell_type": "markdown",
   "id": "7b902ffa-cb33-4ac7-9024-3726113a1f4a",
   "metadata": {},
   "source": [
    "Q14. How do outliers affect measures of central tendency and dispersion? Provide an example."
   ]
  },
  {
   "cell_type": "markdown",
   "id": "8a066c48-2398-43d4-903d-e4417b3a2a76",
   "metadata": {},
   "source": [
    "Outliers can have a significant impact on measures of central tendency (such as the mean, median, and mode) and measures of dispersion (such as the range, variance, and standard deviation) in a dataset. Here's how outliers affect these measures:\n",
    "\n",
    "Measures of Central Tendency:\n",
    "\n",
    "a. Mean: Outliers can disproportionately affect the mean. A single extreme outlier can greatly pull the mean in its direction. For example, consider a dataset of the ages of people in a small town:\n",
    "\n",
    "Ages: 20, 21, 22, 24, 25, 26, 27, 28, 90\n",
    "\n",
    "The mean age in this dataset without the outlier is (20+21+22+24+25+26+27+28)/8 = 24.125. However, if we include the outlier (90), the mean increases significantly to 38.5. The outlier has skewed the mean upward.\n",
    "\n",
    "b. Median: Outliers have less impact on the median. The median is the middle value when the data is sorted. Outliers can shift the median slightly but not to the same extent as the mean. In the previous example, the median remains 25 whether or not the outlier is included.\n",
    "\n",
    "c. Mode: Outliers typically do not affect the mode, which is the most frequently occurring value in the dataset. In most cases, outliers are not part of the mode.\n",
    "\n",
    "Measures of Dispersion:\n",
    "\n",
    "a. Range: Outliers can significantly affect the range, which is the difference between the maximum and minimum values in a dataset. In the previous example, the range without the outlier is 28 - 20 = 8, but with the outlier, it becomes 90 - 20 = 70. The presence of an outlier can lead to an overestimation of the range.\n",
    "\n",
    "b. Variance and Standard Deviation: Outliers can have a substantial impact on variance and standard deviation, which are measures of how spread out the data points are from the mean. Since these measures involve squared differences from the mean, outliers can disproportionately increase their values. In the age example, including the outlier substantially increases both the variance and standard deviation."
   ]
  },
  {
   "cell_type": "code",
   "execution_count": null,
   "id": "0a8fefb2-8443-46f5-bac8-c987cf11ba68",
   "metadata": {},
   "outputs": [],
   "source": []
  }
 ],
 "metadata": {
  "kernelspec": {
   "display_name": "Python 3 (ipykernel)",
   "language": "python",
   "name": "python3"
  },
  "language_info": {
   "codemirror_mode": {
    "name": "ipython",
    "version": 3
   },
   "file_extension": ".py",
   "mimetype": "text/x-python",
   "name": "python",
   "nbconvert_exporter": "python",
   "pygments_lexer": "ipython3",
   "version": "3.10.8"
  }
 },
 "nbformat": 4,
 "nbformat_minor": 5
}
